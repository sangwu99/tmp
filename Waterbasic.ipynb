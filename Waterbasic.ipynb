{
  "nbformat": 4,
  "nbformat_minor": 0,
  "metadata": {
    "colab": {
      "name": "Waterbasic.ipynb",
      "provenance": []
    },
    "kernelspec": {
      "name": "python3",
      "display_name": "Python 3"
    },
    "language_info": {
      "name": "python"
    }
  },
  "cells": [
    {
      "cell_type": "code",
      "source": [
        "!pip install xmltodict"
      ],
      "metadata": {
        "colab": {
          "base_uri": "https://localhost:8080/"
        },
        "id": "R-_dWn5zwqoC",
        "outputId": "609ce201-e643-4fdb-93bc-fc2dba200d75"
      },
      "execution_count": null,
      "outputs": [
        {
          "output_type": "stream",
          "name": "stdout",
          "text": [
            "Collecting xmltodict\n",
            "  Downloading xmltodict-0.12.0-py2.py3-none-any.whl (9.2 kB)\n",
            "Installing collected packages: xmltodict\n",
            "Successfully installed xmltodict-0.12.0\n"
          ]
        }
      ]
    },
    {
      "cell_type": "code",
      "execution_count": null,
      "metadata": {
        "colab": {
          "base_uri": "https://localhost:8080/",
          "height": 245
        },
        "id": "jQiO2uuEudWw",
        "outputId": "362147fb-6722-49aa-9803-99781e4a3fe4"
      },
      "outputs": [
        {
          "output_type": "error",
          "ename": "KeyError",
          "evalue": "ignored",
          "traceback": [
            "\u001b[0;31m---------------------------------------------------------------------------\u001b[0m",
            "\u001b[0;31mKeyError\u001b[0m                                  Traceback (most recent call last)",
            "\u001b[0;32m<ipython-input-12-f8d0d6f4c51c>\u001b[0m in \u001b[0;36m<module>\u001b[0;34m()\u001b[0m\n\u001b[1;32m      7\u001b[0m \u001b[0mcontent\u001b[0m \u001b[0;34m=\u001b[0m \u001b[0mrequests\u001b[0m\u001b[0;34m.\u001b[0m\u001b[0mget\u001b[0m\u001b[0;34m(\u001b[0m\u001b[0murl\u001b[0m\u001b[0;34m)\u001b[0m\u001b[0;34m.\u001b[0m\u001b[0mcontent\u001b[0m\u001b[0;34m\u001b[0m\u001b[0;34m\u001b[0m\u001b[0m\n\u001b[1;32m      8\u001b[0m \u001b[0mdict\u001b[0m \u001b[0;34m=\u001b[0m \u001b[0mxmltodict\u001b[0m\u001b[0;34m.\u001b[0m\u001b[0mparse\u001b[0m\u001b[0;34m(\u001b[0m\u001b[0mcontent\u001b[0m\u001b[0;34m)\u001b[0m\u001b[0;34m\u001b[0m\u001b[0;34m\u001b[0m\u001b[0m\n\u001b[0;32m----> 9\u001b[0;31m \u001b[0mjsonString\u001b[0m \u001b[0;34m=\u001b[0m \u001b[0mjson\u001b[0m\u001b[0;34m.\u001b[0m\u001b[0mdumps\u001b[0m\u001b[0;34m(\u001b[0m\u001b[0mdict\u001b[0m\u001b[0;34m[\u001b[0m\u001b[0;34m'Water'\u001b[0m\u001b[0;34m]\u001b[0m\u001b[0;34m,\u001b[0m \u001b[0mensure_ascii\u001b[0m\u001b[0;34m=\u001b[0m\u001b[0;32mFalse\u001b[0m\u001b[0;34m)\u001b[0m\u001b[0;34m\u001b[0m\u001b[0;34m\u001b[0m\u001b[0m\n\u001b[0m\u001b[1;32m     10\u001b[0m \u001b[0mjsonObj\u001b[0m \u001b[0;34m=\u001b[0m \u001b[0mjson\u001b[0m\u001b[0;34m.\u001b[0m\u001b[0mloads\u001b[0m\u001b[0;34m(\u001b[0m\u001b[0mjasonString\u001b[0m\u001b[0;34m)\u001b[0m\u001b[0;34m\u001b[0m\u001b[0;34m\u001b[0m\u001b[0m\n\u001b[1;32m     11\u001b[0m \u001b[0;34m\u001b[0m\u001b[0m\n",
            "\u001b[0;31mKeyError\u001b[0m: 'Water'"
          ]
        }
      ],
      "source": [
        "import requests, xmltodict, json\n",
        "\n",
        "\n",
        "key = \"Mcse%2BksR2qMS%2FSQTbCWG0E96Jkt2k1tOitER9ky8%2BfNBCq0M%2BHNFZcpIAYvx1q2a54pnvxG9rTCaplLWMxOFhw%3D%3D\"\n",
        "url = 'http://apis.data.go.kr/B500001/sewerage/waterQuality/day/daylist'\n",
        "\n",
        "content = requests.get(url).content\n",
        "dict = xmltodict.parse(content)\n",
        "jsonString = json.dumps(dict['Water'], ensure_ascii=False)\n",
        "jsonObj = json.loads(jasonString)\n",
        "\n"
      ]
    },
    {
      "cell_type": "code",
      "source": [
        "for row in jsonObj['row']:\n",
        "    print(row)"
      ],
      "metadata": {
        "id": "yec6L1J-x9WU"
      },
      "execution_count": null,
      "outputs": []
    },
    {
      "cell_type": "code",
      "source": [
        "import requests\n",
        "\n",
        "url = 'http://apis.data.go.kr/B500001/sewerage/waterQuality/day/daylist'\n",
        "params ={'serviceKey' : 'Mcse+ksR2qMS/SQTbCWG0E96Jkt2k1tOitER9ky8+fNBCq0M+HNFZcpIAYvx1q2a54pnvxG9rTCaplLWMxOFhw==', 'pageNo' : '1', 'numOfRows' : '10', 'stDt' : '2019-09-01', 'edDt' : '2019-09-30', 'loccd' : '90002', '_type' : 'xml' }\n",
        "\n",
        "response = requests.get(url, params=params)\n",
        "print(response.content)\n",
        "content = response.content"
      ],
      "metadata": {
        "colab": {
          "base_uri": "https://localhost:8080/"
        },
        "id": "Gwxee7uRyLfs",
        "outputId": "c239d831-232c-4e6a-b592-2cb3c825d694"
      },
      "execution_count": null,
      "outputs": [
        {
          "output_type": "stream",
          "name": "stdout",
          "text": [
            "b'<?xml version=\"1.0\" encoding=\"UTF-8\" standalone=\"yes\"?><response><header><resultCode>00</resultCode><resultMsg>NORMAL SERVICE.</resultMsg></header><body><items><item><bBac>290</bBac><bBod>5.2</bBod><bCod>12.6</bCod><bSs>2.9</bSs><bTn>1.034</bTn><bTp>0.581</bTp><bVal>4,012</bVal><loccd>90002</loccd><locnm>\\xeb\\x8a\\xa5\\xea\\xb3\\xa1\\xed\\x95\\x98\\xec\\x88\\x98\\xec\\xb2\\x98\\xeb\\xa6\\xac\\xec\\x8b\\x9c\\xec\\x84\\xa4</locnm><temper>23.7</temper><uBac>198,000</uBac><uBod>241.8</uBod><uCod>80.0</uCod><uSs>165.0</uSs><uTn>20.501</uTn><uTp>3.997</uTp><uVal>4,508</uVal><weather>\\xeb\\xa7\\x91\\xec\\x9d\\x8c</weather><wqdt>2019-09-01</wqdt><wtemper>27.5</wtemper></item><item><bBac>330</bBac><bBod>5.1</bBod><bCod>12.1</bCod><bSs>4.6</bSs><bTn>0.782</bTn><bTp>0.836</bTp><bVal>4,139</bVal><loccd>90002</loccd><locnm>\\xeb\\x8a\\xa5\\xea\\xb3\\xa1\\xed\\x95\\x98\\xec\\x88\\x98\\xec\\xb2\\x98\\xeb\\xa6\\xac\\xec\\x8b\\x9c\\xec\\x84\\xa4</locnm><temper>24.4</temper><uBac>264,000</uBac><uBod>189.0</uBod><uCod>85.5</uCod><uSs>127.5</uSs><uTn>15.555</uTn><uTp>4.065</uTp><uVal>4,617</uVal><weather>\\xeb\\xa7\\x91\\xec\\x9d\\x8c</weather><wqdt>2019-09-02</wqdt><wtemper>27.2</wtemper></item><item><bBac>480</bBac><bBod>6.9</bBod><bCod>13.7</bCod><bSs>4.2</bSs><bTn>1.008</bTn><bTp>0.876</bTp><bVal>4,191</bVal><loccd>90002</loccd><locnm>\\xeb\\x8a\\xa5\\xea\\xb3\\xa1\\xed\\x95\\x98\\xec\\x88\\x98\\xec\\xb2\\x98\\xeb\\xa6\\xac\\xec\\x8b\\x9c\\xec\\x84\\xa4</locnm><temper>24.1</temper><uBac>264,000</uBac><uBod>207.0</uBod><uCod>108.8</uCod><uSs>77.5</uSs><uTn>17.755</uTn><uTp>4.948</uTp><uVal>4,722</uVal><weather>\\xeb\\xb9\\x84</weather><wqdt>2019-09-03</wqdt><wtemper>26.8</wtemper></item><item><bBac>460</bBac><bBod>5.9</bBod><bCod>9.1</bCod><bSs>4.5</bSs><bTn>0.446</bTn><bTp>0.904</bTp><bVal>4,457</bVal><loccd>90002</loccd><locnm>\\xeb\\x8a\\xa5\\xea\\xb3\\xa1\\xed\\x95\\x98\\xec\\x88\\x98\\xec\\xb2\\x98\\xeb\\xa6\\xac\\xec\\x8b\\x9c\\xec\\x84\\xa4</locnm><temper>22.8</temper><uBac>220,000</uBac><uBod>235.2</uBod><uCod>91.8</uCod><uSs>257.5</uSs><uTn>19.893</uTn><uTp>5.128</uTp><uVal>4,760</uVal><weather>\\xeb\\xb9\\x84</weather><wqdt>2019-09-04</wqdt><wtemper>26.3</wtemper></item><item><bBac>700</bBac><bBod>6.6</bBod><bCod>9.2</bCod><bSs>4.7</bSs><bTn>0.689</bTn><bTp>0.843</bTp><bVal>4,878</bVal><loccd>90002</loccd><locnm>\\xeb\\x8a\\xa5\\xea\\xb3\\xa1\\xed\\x95\\x98\\xec\\x88\\x98\\xec\\xb2\\x98\\xeb\\xa6\\xac\\xec\\x8b\\x9c\\xec\\x84\\xa4</locnm><temper>23</temper><uBac>264,000</uBac><uBod>253.2</uBod><uCod>81.6</uCod><uSs>125.0</uSs><uTn>17.979</uTn><uTp>4.023</uTp><uVal>5,739</uVal><weather>\\xeb\\xb9\\x84</weather><wqdt>2019-09-05</wqdt><wtemper>27</wtemper></item><item><bBac>530</bBac><bBod>6.6</bBod><bCod>9.2</bCod><bSs>3.6</bSs><bTn>0.310</bTn><bTp>1.231</bTp><bVal>4,485</bVal><loccd>90002</loccd><locnm>\\xeb\\x8a\\xa5\\xea\\xb3\\xa1\\xed\\x95\\x98\\xec\\x88\\x98\\xec\\xb2\\x98\\xeb\\xa6\\xac\\xec\\x8b\\x9c\\xec\\x84\\xa4</locnm><temper>25.3</temper><uBac>418,000</uBac><uBod>244.8</uBod><uCod>95.2</uCod><uSs>140.0</uSs><uTn>17.202</uTn><uTp>4.761</uTp><uVal>4,997</uVal><weather>\\xeb\\xb9\\x84</weather><wqdt>2019-09-06</wqdt><wtemper>27</wtemper></item><item><bBac>350</bBac><bBod>4.0</bBod><bCod>9.6</bCod><bSs>2.3</bSs><bTn>0.883</bTn><bTp>0.458</bTp><bVal>4,311</bVal><loccd>90002</loccd><locnm>\\xeb\\x8a\\xa5\\xea\\xb3\\xa1\\xed\\x95\\x98\\xec\\x88\\x98\\xec\\xb2\\x98\\xeb\\xa6\\xac\\xec\\x8b\\x9c\\xec\\x84\\xa4</locnm><temper>25.7</temper><uBac>110,000</uBac><uBod>227.4</uBod><uCod>109.4</uCod><uSs>125.0</uSs><uTn>27.028</uTn><uTp>7.607</uTp><uVal>4,849</uVal><weather>\\xeb\\xb9\\x84</weather><wqdt>2019-09-07</wqdt><wtemper>27</wtemper></item><item><bBac>310</bBac><bBod>8.6</bBod><bCod>10.3</bCod><bSs>4.2</bSs><bTn>0.913</bTn><bTp>0.661</bTp><bVal>4,189</bVal><loccd>90002</loccd><locnm>\\xeb\\x8a\\xa5\\xea\\xb3\\xa1\\xed\\x95\\x98\\xec\\x88\\x98\\xec\\xb2\\x98\\xeb\\xa6\\xac\\xec\\x8b\\x9c\\xec\\x84\\xa4</locnm><temper>24.7</temper><uBac>110,000</uBac><uBod>283.8</uBod><uCod>69.4</uCod><uSs>117.5</uSs><uTn>24.625</uTn><uTp>4.172</uTp><uVal>4,851</uVal><weather>\\xed\\x9d\\x90\\xeb\\xa6\\xbc</weather><wqdt>2019-09-08</wqdt><wtemper>26.7</wtemper></item><item><bBac>290</bBac><bBod>6.8</bBod><bCod>10.3</bCod><bSs>5.6</bSs><bTn>0.601</bTn><bTp>0.826</bTp><bVal>4,346</bVal><loccd>90002</loccd><locnm>\\xeb\\x8a\\xa5\\xea\\xb3\\xa1\\xed\\x95\\x98\\xec\\x88\\x98\\xec\\xb2\\x98\\xeb\\xa6\\xac\\xec\\x8b\\x9c\\xec\\x84\\xa4</locnm><temper>25.1</temper><uBac>198,000</uBac><uBod>241.8</uBod><uCod>101.6</uCod><uSs>120.0</uSs><uTn>23.123</uTn><uTp>4.914</uTp><uVal>5,041</uVal><weather>\\xeb\\xb9\\x84</weather><wqdt>2019-09-09</wqdt><wtemper>27.1</wtemper></item><item><bBac>260</bBac><bBod>7.2</bBod><bCod>13.4</bCod><bSs>4.1</bSs><bTn>0.872</bTn><bTp>0.674</bTp><bVal>4,279</bVal><loccd>90002</loccd><locnm>\\xeb\\x8a\\xa5\\xea\\xb3\\xa1\\xed\\x95\\x98\\xec\\x88\\x98\\xec\\xb2\\x98\\xeb\\xa6\\xac\\xec\\x8b\\x9c\\xec\\x84\\xa4</locnm><temper>23.8</temper><uBac>165,000</uBac><uBod>344.4</uBod><uCod>98.0</uCod><uSs>192.5</uSs><uTn>18.277</uTn><uTp>5.967</uTp><uVal>4,807</uVal><weather>\\xeb\\xb9\\x84</weather><wqdt>2019-09-10</wqdt><wtemper>26.9</wtemper></item></items><numOfRows>10</numOfRows><pageNo>1</pageNo><totalCount>29</totalCount></body></response>'\n"
          ]
        }
      ]
    },
    {
      "cell_type": "code",
      "source": [
        "dict = xmltodict.parse(content)\n",
        "jsonString = json.dumps(dict['Water'], ensure_ascii=False)\n",
        "jsonObj = json.loads(jasonString)"
      ],
      "metadata": {
        "colab": {
          "base_uri": "https://localhost:8080/",
          "height": 209
        },
        "id": "ssi2GeTzwBnt",
        "outputId": "7dd65369-d066-4297-811e-3d94c9c401ec"
      },
      "execution_count": null,
      "outputs": [
        {
          "output_type": "error",
          "ename": "KeyError",
          "evalue": "ignored",
          "traceback": [
            "\u001b[0;31m---------------------------------------------------------------------------\u001b[0m",
            "\u001b[0;31mKeyError\u001b[0m                                  Traceback (most recent call last)",
            "\u001b[0;32m<ipython-input-19-4578ef8563c8>\u001b[0m in \u001b[0;36m<module>\u001b[0;34m()\u001b[0m\n\u001b[1;32m      1\u001b[0m \u001b[0mdict\u001b[0m \u001b[0;34m=\u001b[0m \u001b[0mxmltodict\u001b[0m\u001b[0;34m.\u001b[0m\u001b[0mparse\u001b[0m\u001b[0;34m(\u001b[0m\u001b[0mcontent\u001b[0m\u001b[0;34m)\u001b[0m\u001b[0;34m\u001b[0m\u001b[0;34m\u001b[0m\u001b[0m\n\u001b[0;32m----> 2\u001b[0;31m \u001b[0mjsonString\u001b[0m \u001b[0;34m=\u001b[0m \u001b[0mjson\u001b[0m\u001b[0;34m.\u001b[0m\u001b[0mdumps\u001b[0m\u001b[0;34m(\u001b[0m\u001b[0mdict\u001b[0m\u001b[0;34m[\u001b[0m\u001b[0;34m'Water'\u001b[0m\u001b[0;34m]\u001b[0m\u001b[0;34m,\u001b[0m \u001b[0mensure_ascii\u001b[0m\u001b[0;34m=\u001b[0m\u001b[0;32mFalse\u001b[0m\u001b[0;34m)\u001b[0m\u001b[0;34m\u001b[0m\u001b[0;34m\u001b[0m\u001b[0m\n\u001b[0m\u001b[1;32m      3\u001b[0m \u001b[0mjsonObj\u001b[0m \u001b[0;34m=\u001b[0m \u001b[0mjson\u001b[0m\u001b[0;34m.\u001b[0m\u001b[0mloads\u001b[0m\u001b[0;34m(\u001b[0m\u001b[0mjasonString\u001b[0m\u001b[0;34m)\u001b[0m\u001b[0;34m\u001b[0m\u001b[0;34m\u001b[0m\u001b[0m\n",
            "\u001b[0;31mKeyError\u001b[0m: 'Water'"
          ]
        }
      ]
    },
    {
      "cell_type": "code",
      "source": [
        ""
      ],
      "metadata": {
        "id": "txmXZrLYwBu1"
      },
      "execution_count": null,
      "outputs": []
    },
    {
      "cell_type": "code",
      "source": [
        ""
      ],
      "metadata": {
        "id": "c-y6_GH1wx99"
      },
      "execution_count": null,
      "outputs": []
    },
    {
      "cell_type": "code",
      "source": [
        ""
      ],
      "metadata": {
        "id": "Qc2KAFsbwyKq"
      },
      "execution_count": null,
      "outputs": []
    },
    {
      "cell_type": "code",
      "source": [
        ""
      ],
      "metadata": {
        "id": "KpkVeeewwyYy"
      },
      "execution_count": null,
      "outputs": []
    }
  ]
}